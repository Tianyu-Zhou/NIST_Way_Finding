{
 "cells": [
  {
   "cell_type": "code",
   "execution_count": 1,
   "metadata": {},
   "outputs": [],
   "source": [
    "import pandas as pd\n",
    "from matplotlib import pyplot\n",
    "import matplotlib.pyplot as plt\n",
    "import pingouin as pg\n",
    "import numpy as np  \n",
    "import matplotlib.patches as mpatches\n",
    "import seaborn as sns \n",
    "from statannot import add_stat_annotation\n",
    "\n",
    "# from ComparisionPlot import FourGroupBoxPlot"
   ]
  },
  {
   "cell_type": "code",
   "execution_count": 3,
   "metadata": {},
   "outputs": [],
   "source": [
    "information_raw = pd.read_csv(\"../../data/questionnaire/Basic Information.csv\")\n",
    "cogload_raw = pd.read_csv(\"../../data/questionnaire/Cognitive Load.csv\")\n",
    "spatial_raw = pd.read_csv(\"../../data/questionnaire/Spatial Survey.csv\")"
   ]
  },
  {
   "cell_type": "code",
   "execution_count": 4,
   "metadata": {},
   "outputs": [],
   "source": [
    "cogload_raw['spatial_difficult']= cogload_raw.iloc[:,3]+cogload_raw.iloc[:,4]+cogload_raw.iloc[:,5]+cogload_raw.iloc[:,6]\n",
    "cogload_raw['UI_unclear']= cogload_raw.iloc[:,7]+cogload_raw.iloc[:,8]+cogload_raw.iloc[:,9]+cogload_raw.iloc[:,10]\n",
    "cogload_raw['UI_useful']= cogload_raw.iloc[:,11]+cogload_raw.iloc[:,12]+cogload_raw.iloc[:,13]+cogload_raw.iloc[:,14]\n",
    "cogload_raw['total']= cogload_raw.iloc[:,3]+cogload_raw.iloc[:,4]+cogload_raw.iloc[:,5]+cogload_raw.iloc[:,6]\\\n",
    "                    +cogload_raw.iloc[:,7]+cogload_raw.iloc[:,8]+cogload_raw.iloc[:,9]+cogload_raw.iloc[:,10]\\\n",
    "                    +44-cogload_raw.iloc[:,11]-cogload_raw.iloc[:,12]-cogload_raw.iloc[:,13]-cogload_raw.iloc[:,14]\n",
    "\n",
    "spatial_raw = spatial_raw.replace(['None'],1)\n",
    "spatial_raw = spatial_raw.replace(['Slight'],2)\n",
    "spatial_raw = spatial_raw.replace(['Moderate'],3)\n",
    "spatial_raw = spatial_raw.replace(['Severe'],4)\n",
    "spatial_raw['total'] = spatial_raw.iloc[:,3]+spatial_raw.iloc[:,4]+spatial_raw.iloc[:,5]+spatial_raw.iloc[:,6]\\\n",
    "                    +spatial_raw.iloc[:,7]+spatial_raw.iloc[:,8]+spatial_raw.iloc[:,9]+spatial_raw.iloc[:,10]\\\n",
    "                    +spatial_raw.iloc[:,11]"
   ]
  },
  {
   "cell_type": "code",
   "execution_count": null,
   "metadata": {},
   "outputs": [],
   "source": [
    "cogload_raw"
   ]
  },
  {
   "cell_type": "code",
   "execution_count": 5,
   "metadata": {},
   "outputs": [],
   "source": [
    "cogload_raw = cogload_raw.drop([9,28])\n",
    "spatial_raw = spatial_raw.drop([9,28])\n"
   ]
  },
  {
   "cell_type": "code",
   "execution_count": 33,
   "metadata": {},
   "outputs": [],
   "source": [
    "cogload_raw_subject_group = cogload_raw.groupby('Subject No.')\n",
    "cogload_raw_keys = cogload_raw_subject_group.groups.keys()\n",
    "cogload_raw_keys_list = list(cogload_raw_keys)\n"
   ]
  },
  {
   "cell_type": "code",
   "execution_count": 6,
   "metadata": {},
   "outputs": [
    {
     "name": "stdout",
     "output_type": "stream",
     "text": [
      "p-value annotation legend:\n",
      "ns: 5.00e-02 < p <= 1.00e+00\n",
      "*: 1.00e-02 < p <= 5.00e-02\n",
      "**: 1.00e-03 < p <= 1.00e-02\n",
      "***: 1.00e-04 < p <= 1.00e-03\n",
      "****: p <= 1.00e-04\n",
      "\n",
      "Using zero_method  pratt\n",
      "Control Group v.s. Automatic UI: Wilcoxon test (paired samples), P_val=4.080e-01 stat=7.300e+01\n",
      "Using zero_method  pratt\n",
      "Automatic UI v.s. Self-control UI: Wilcoxon test (paired samples), P_val=8.596e-01 stat=9.050e+01\n"
     ]
    },
    {
     "name": "stderr",
     "output_type": "stream",
     "text": [
      "c:\\A\\software\\Anaconda3\\lib\\site-packages\\scipy\\stats\\morestats.py:2967: UserWarning: Exact p-value calculation does not work if there are ties. Switching to normal approximation.\n",
      "  warnings.warn(\"Exact p-value calculation does not work if there are \"\n"
     ]
    },
    {
     "name": "stdout",
     "output_type": "stream",
     "text": [
      "Using zero_method  pratt\n",
      "Control Group v.s. Self-control UI: Wilcoxon test (paired samples), P_val=2.936e-01 stat=6.750e+01\n",
      "p-value annotation legend:\n",
      "ns: 5.00e-02 < p <= 1.00e+00\n",
      "*: 1.00e-02 < p <= 5.00e-02\n",
      "**: 1.00e-03 < p <= 1.00e-02\n",
      "***: 1.00e-04 < p <= 1.00e-03\n",
      "****: p <= 1.00e-04\n",
      "\n",
      "Using zero_method  pratt\n",
      "Control Group v.s. Automatic UI: Wilcoxon test (paired samples), P_val=1.808e-02 stat=3.750e+01\n",
      "Using zero_method  pratt\n",
      "Automatic UI v.s. Self-control UI: Wilcoxon test (paired samples), P_val=9.780e-02 stat=5.350e+01\n",
      "Using zero_method  pratt\n",
      "Control Group v.s. Self-control UI: Wilcoxon test (paired samples), P_val=4.558e-01 stat=7.600e+01\n",
      "p-value annotation legend:\n",
      "ns: 5.00e-02 < p <= 1.00e+00\n",
      "*: 1.00e-02 < p <= 5.00e-02\n",
      "**: 1.00e-03 < p <= 1.00e-02\n",
      "***: 1.00e-04 < p <= 1.00e-03\n",
      "****: p <= 1.00e-04\n",
      "\n",
      "Using zero_method "
     ]
    },
    {
     "name": "stderr",
     "output_type": "stream",
     "text": [
      "c:\\A\\software\\Anaconda3\\lib\\site-packages\\scipy\\stats\\morestats.py:2967: UserWarning: Exact p-value calculation does not work if there are ties. Switching to normal approximation.\n",
      "  warnings.warn(\"Exact p-value calculation does not work if there are \"\n"
     ]
    },
    {
     "name": "stdout",
     "output_type": "stream",
     "text": [
      " pratt\n",
      "Control Group v.s. Automatic UI: Wilcoxon test (paired samples), P_val=6.278e-01 stat=8.000e+01\n",
      "Using zero_method  pratt\n",
      "Automatic UI v.s. Self-control UI: Wilcoxon test (paired samples), P_val=3.086e-01 stat=6.250e+01\n",
      "Using zero_method  pratt\n",
      "Control Group v.s. Self-control UI: Wilcoxon test (paired samples), P_val=3.923e-01 stat=6.650e+01\n"
     ]
    },
    {
     "name": "stderr",
     "output_type": "stream",
     "text": [
      "c:\\A\\software\\Anaconda3\\lib\\site-packages\\scipy\\stats\\morestats.py:2967: UserWarning: Exact p-value calculation does not work if there are ties. Switching to normal approximation.\n",
      "  warnings.warn(\"Exact p-value calculation does not work if there are \"\n"
     ]
    },
    {
     "name": "stdout",
     "output_type": "stream",
     "text": [
      "p-value annotation legend:\n",
      "ns: 5.00e-02 < p <= 1.00e+00\n",
      "*: 1.00e-02 < p <= 5.00e-02\n",
      "**: 1.00e-03 < p <= 1.00e-02\n",
      "***: 1.00e-04 < p <= 1.00e-03\n",
      "****: p <= 1.00e-04\n",
      "\n",
      "Using zero_method  pratt\n",
      "Control Group v.s. Automatic UI: Wilcoxon test (paired samples), P_val=2.413e-01 stat=6.550e+01\n",
      "Using zero_method  pratt\n",
      "Automatic UI v.s. Self-control UI: Wilcoxon test (paired samples), P_val=9.843e-01 stat=9.450e+01\n",
      "Using zero_method  pratt\n",
      "Control Group v.s. Self-control UI: Wilcoxon test (paired samples), P_val=5.324e-01 stat=7.900e+01\n"
     ]
    },
    {
     "name": "stderr",
     "output_type": "stream",
     "text": [
      "c:\\A\\software\\Anaconda3\\lib\\site-packages\\scipy\\stats\\morestats.py:2967: UserWarning: Exact p-value calculation does not work if there are ties. Switching to normal approximation.\n",
      "  warnings.warn(\"Exact p-value calculation does not work if there are \"\n"
     ]
    },
    {
     "data": {
      "text/plain": [
       "[Text(0.5, 42.25, 'Wilcoxon analysis between groups'),\n",
       " Text(1719.9021739130435, 0.5, 'total')]"
      ]
     },
     "execution_count": 6,
     "metadata": {},
     "output_type": "execute_result"
    },
    {
     "data": {
      "image/png": "[encoded data removed]",
      "text/plain": [
       "<Figure size 2400x600 with 4 Axes>"
      ]
     },
     "metadata": {},
     "output_type": "display_data"
    }
   ],
   "source": [
    "### pair analysis visualization \n",
    "sns.set(style = 'whitegrid')\n",
    "x = 'Experiment Group'\n",
    "order = [\"Control Group\", \"Automatic UI\", \"Self-control UI\"]\n",
    "method = 'Wilcoxon'\n",
    "# method = 'Kruskal'\n",
    "data = cogload_raw\n",
    "plot_data = 0\n",
    "\n",
    "fig, axes = plt.subplots(1,4, figsize=(24,6), dpi=100)\n",
    "\n",
    "y = 'spatial_difficult'\n",
    "axes[0] = sns.boxplot(ax = axes[0], data=data, x=x, y=y, order=order)\n",
    "# axes[0] = sns.violinplot(ax = axes[0], data=data, x=x, y=y, order=order)\n",
    "if plot_data:\n",
    "   for i in range(0,len(data),3):\n",
    "      axes[0].plot([data[[y]].values.ravel()[i],\n",
    "      data[[y]].values.ravel()[i+1],\n",
    "      data[[y]].values.ravel()[i+2]\n",
    "      ])\n",
    "test_results = add_stat_annotation(ax=axes[0], data=data, x=x, y=y, order=order,\n",
    "                                 box_pairs=[\n",
    "                                          (order[0], order[1]),\n",
    "                                          (order[0], order[2]),\n",
    "                                          (order[1], order[2]),\n",
    "                                             ],\n",
    "                                 test=method, \n",
    "                                 comparisons_correction=None, \n",
    "                                 text_format='star', loc='outside', verbose=1,\n",
    "                                 )\n",
    "axes[0].set(xlabel = method + ' analysis between groups', ylabel=y)\n",
    "\n",
    "y = \"UI_unclear\"\n",
    "axes[1] = sns.boxplot(ax = axes[1],data=data, x=x, y=y,order=order,)\n",
    "if plot_data:\n",
    "   for i in range(0,len(data),3):\n",
    "      axes[1].plot([data[[y]].values.ravel()[i],\n",
    "      data[[y]].values.ravel()[i+1],\n",
    "      data[[y]].values.ravel()[i+2]\n",
    "      ])\n",
    "test_results = add_stat_annotation(ax=axes[1], data=data, x=x, y=y,order=order,\n",
    "                                 box_pairs=[\n",
    "                                          (order[0], order[1]),\n",
    "                                          (order[0], order[2]),\n",
    "                                          (order[1], order[2]),\n",
    "                                          ],\n",
    "                                 test=method, \n",
    "                                 comparisons_correction=None, \n",
    "                                 text_format='star', loc='outside', verbose=1,\n",
    "                                 )\n",
    "axes[1].set(xlabel = method + ' analysis between groups', ylabel=y)\n",
    "\n",
    "y = 'UI_useful'\n",
    "axes[2] = sns.boxplot(ax = axes[2],data=data, x=x, y=y,order=order,)\n",
    "if plot_data:\n",
    "   for i in range(0,len(data),3):\n",
    "      axes[2].plot([data[[y]].values.ravel()[i],\n",
    "      data[[y]].values.ravel()[i+1],\n",
    "      data[[y]].values.ravel()[i+2]\n",
    "      ])\n",
    "test_results = add_stat_annotation(ax=axes[2], data=data, x=x, y=y,order=order,\n",
    "                                 box_pairs=[\n",
    "                                          (order[0], order[1]),\n",
    "                                          (order[0], order[2]),\n",
    "                                          (order[1], order[2]),\n",
    "                                          ],\n",
    "                                 test=method, \n",
    "                                 comparisons_correction=None, \n",
    "                                 text_format='star', loc='outside', verbose=1,\n",
    "                                 )\n",
    "axes[2].set(xlabel = method + ' analysis between groups', ylabel=y)\n",
    "\n",
    "y = \"total\"\n",
    "axes[3] = sns.boxplot(ax = axes[3],data=data, x=x, y=y,order=order,)\n",
    "if plot_data:\n",
    "   for i in range(0,len(data),3):\n",
    "      axes[3].plot([data[[y]].values.ravel()[i],\n",
    "      data[[y]].values.ravel()[i+1],\n",
    "      data[[y]].values.ravel()[i+2]\n",
    "      ])\n",
    "test_results = add_stat_annotation(ax=axes[3], data=data, x=x, y=y,order=order,\n",
    "                                 box_pairs=[\n",
    "                                          (order[0], order[1]),\n",
    "                                          (order[0], order[2]),\n",
    "                                          (order[1], order[2]),\n",
    "                                          ],\n",
    "                                 test=method, \n",
    "                                 comparisons_correction=None, \n",
    "                                 text_format='star', loc='outside', verbose=1,\n",
    "                                 )\n",
    "axes[3].set(xlabel = method + ' analysis between groups', ylabel=y)"
   ]
  },
  {
   "cell_type": "code",
   "execution_count": 47,
   "metadata": {},
   "outputs": [
    {
     "name": "stdout",
     "output_type": "stream",
     "text": [
      "p-value annotation legend:\n",
      "ns: 5.00e-02 < p <= 1.00e+00\n",
      "*: 1.00e-02 < p <= 5.00e-02\n",
      "**: 1.00e-03 < p <= 1.00e-02\n",
      "***: 1.00e-04 < p <= 1.00e-03\n",
      "****: p <= 1.00e-04\n",
      "\n",
      "Using zero_method  pratt\n",
      "Automatic UI v.s. Control Group: Wilcoxon test (paired samples), P_val=7.608e-01 stat=8.250e+01\n",
      "Using zero_method  pratt\n",
      "Control Group v.s. Self-control UI: Wilcoxon test (paired samples), P_val=9.036e-01 stat=9.150e+01\n",
      "Using zero_method  pratt\n",
      "Automatic UI v.s. Self-control UI: Wilcoxon test (paired samples), P_val=4.290e-01 stat=7.400e+01\n"
     ]
    },
    {
     "name": "stderr",
     "output_type": "stream",
     "text": [
      "d:\\Tianyu\\software\\anaconda3\\lib\\site-packages\\scipy\\stats\\morestats.py:3141: UserWarning: Exact p-value calculation does not work if there are ties. Switching to normal approximation.\n",
      "  warnings.warn(\"Exact p-value calculation does not work if there are \"\n"
     ]
    },
    {
     "data": {
      "text/plain": [
       "[Text(0.5, 42.25, 'Wilcoxon analysis between groups'),\n",
       " Text(89.25, 0.5, 'total')]"
      ]
     },
     "execution_count": 47,
     "metadata": {},
     "output_type": "execute_result"
    },
    {
     "data": {
      "image/png": "[encoded data removed]",
      "text/plain": [
       "<Figure size 1000x600 with 2 Axes>"
      ]
     },
     "metadata": {},
     "output_type": "display_data"
    }
   ],
   "source": [
    "sns.set(style = 'whitegrid')\n",
    "x = 'Experiment Group'\n",
    "order = [\"Automatic UI\", \"Control Group\",\"Self-control UI\"]\n",
    "method = 'Wilcoxon'\n",
    "# method = 'Kruskal'\n",
    "data = spatial_raw\n",
    "\n",
    "fig, axes = plt.subplots(1,2, figsize=(10,6), dpi=100)\n",
    "\n",
    "y = 'total'\n",
    "axes[0] = sns.boxplot(ax = axes[0], data=data, x=x, y=y, order=order)\n",
    "# axes[0] = sns.violinplot(ax = axes[0], data=data, x=x, y=y, order=order)\n",
    "test_results = add_stat_annotation(ax=axes[0], data=data, x=x, y=y, order=order,\n",
    "                                 box_pairs=[\n",
    "                                          (order[0], order[1]),\n",
    "                                          (order[0], order[2]),\n",
    "                                          (order[1], order[2]),\n",
    "                                             ],\n",
    "                                 test=method, \n",
    "                                 comparisons_correction=None, \n",
    "                                 text_format='star', loc='outside', verbose=1,\n",
    "                                 )\n",
    "axes[0].set(xlabel = method + ' analysis between groups', ylabel=y)"
   ]
  },
  {
   "cell_type": "code",
   "execution_count": null,
   "metadata": {},
   "outputs": [],
   "source": []
  },
  {
   "cell_type": "code",
   "execution_count": null,
   "metadata": {},
   "outputs": [],
   "source": []
  },
  {
   "cell_type": "code",
   "execution_count": null,
   "metadata": {},
   "outputs": [],
   "source": []
  },
  {
   "cell_type": "code",
   "execution_count": null,
   "metadata": {},
   "outputs": [],
   "source": []
  },
  {
   "cell_type": "code",
   "execution_count": 3,
   "metadata": {},
   "outputs": [
    {
     "name": "stdout",
     "output_type": "stream",
     "text": [
      "['Automatic - 1', 'Automatic - 2', 'Control (Without assistance)-1', 'Control (Without assistance)-2', 'Haptic (With Haptic) -1', 'Haptic (With Haptic) -2', 'Visual (With Viusal) -1', 'Visual (With Viusal) -2']\n"
     ]
    }
   ],
   "source": [
    "df_nasa_g_condition = df_nasa_all.groupby('Conditions')\n",
    "keys = df_nasa_g_condition.groups.keys()\n",
    "keys_list = list(keys) # 0 automatic 2 control 4 haptic 6 visual \n",
    "print(keys_list)"
   ]
  },
  {
   "cell_type": "code",
   "execution_count": 5,
   "metadata": {},
   "outputs": [],
   "source": [
    "def GetSum(index,df_g,keys_list):\n",
    "    df = df_g.get_group(keys_list[index])\n",
    "    df['NASA']= df.iloc[:,4]+df.iloc[:,5]+df.iloc[:,6]+df.iloc[:,7]+df.iloc[:,8]+df.iloc[:,9]\n",
    "    return df\n"
   ]
  },
  {
   "cell_type": "code",
   "execution_count": 6,
   "metadata": {},
   "outputs": [
    {
     "name": "stdout",
     "output_type": "stream",
     "text": [
      "66\n",
      "66\n",
      "66\n",
      "66\n"
     ]
    },
    {
     "name": "stderr",
     "output_type": "stream",
     "text": [
      "<ipython-input-5-39297962ce57>:3: SettingWithCopyWarning: \n",
      "A value is trying to be set on a copy of a slice from a DataFrame.\n",
      "Try using .loc[row_indexer,col_indexer] = value instead\n",
      "\n",
      "See the caveats in the documentation: https://pandas.pydata.org/pandas-docs/stable/user_guide/indexing.html#returning-a-view-versus-a-copy\n",
      "  df['NASA']= df.iloc[:,4]+df.iloc[:,5]+df.iloc[:,6]+df.iloc[:,7]+df.iloc[:,8]+df.iloc[:,9]\n"
     ]
    }
   ],
   "source": [
    "df_a1= GetSum(0,df_nasa_g_condition,keys_list)\n",
    "s_a1 = df_a1['NASA']\n",
    "df_a2= GetSum(1,df_nasa_g_condition,keys_list)\n",
    "s_a2 = df_a2['NASA']\n",
    "s_a_all = pd.concat([s_a1, s_a2])\n",
    "\n",
    "df_c1= GetSum(2,df_nasa_g_condition,keys_list)\n",
    "s_c1 = df_c1['NASA']\n",
    "df_c2= GetSum(3,df_nasa_g_condition,keys_list)\n",
    "s_c2 = df_c2['NASA']\n",
    "s_c_all = pd.concat([s_c1, s_c2])\n",
    "\n",
    "df_h1= GetSum(4,df_nasa_g_condition,keys_list)\n",
    "s_h1 = df_h1['NASA']\n",
    "df_h2= GetSum(5,df_nasa_g_condition,keys_list)\n",
    "s_h2 = df_h2['NASA']\n",
    "s_h_all = pd.concat([s_h1, s_h2])\n",
    "\n",
    "df_v1= GetSum(6,df_nasa_g_condition,keys_list)\n",
    "s_v1 = df_v1['NASA']\n",
    "df_v2= GetSum(7,df_nasa_g_condition,keys_list)\n",
    "s_v2 = df_v2['NASA']\n",
    "s_v_all = pd.concat([s_v1, s_v2])\n",
    "\n",
    "print(len(s_a_all))\n",
    "print(len(s_c_all))\n",
    "print(len(s_h_all))\n",
    "print(len(s_v_all))"
   ]
  },
  {
   "cell_type": "code",
   "execution_count": 8,
   "metadata": {},
   "outputs": [
    {
     "data": {
      "text/plain": [
       "2      40\n",
       "10     47\n",
       "18     45\n",
       "28     29\n",
       "32     33\n",
       "       ..\n",
       "229    22\n",
       "233    21\n",
       "243    41\n",
       "255    46\n",
       "259    45\n",
       "Name: NASA, Length: 66, dtype: int64"
      ]
     },
     "execution_count": 8,
     "metadata": {},
     "output_type": "execute_result"
    }
   ],
   "source": [
    "s_v_all"
   ]
  },
  {
   "cell_type": "code",
   "execution_count": 9,
   "metadata": {},
   "outputs": [],
   "source": [
    "def FourGroupBoxPlot(c,h,a,k,c2,h2,a2,k2,t,yt,ymax,ymin,s1,s2,s3,s4,s5,s6,seg=3,s_tx_h=0.5,lh=1,ll=2.5,figsize=(8,8)):   \n",
    "    all_data = [c,h,a,k]\n",
    "    data_t2 = [c2,h2,a2,k2]\n",
    "    labels = ['Control', 'Haptic', 'Automatic','Reverse']\n",
    "    labels2 = ['', '', '','']\n",
    "\n",
    "    fig, (ax1)= plt.subplots(nrows=1, ncols=1, figsize=figsize)\n",
    "    size_ax = 16\n",
    "    size_title = 20\n",
    "    size_group = 14\n",
    "\n",
    "    # rectangular box plot\n",
    "    bplot1 = ax1.boxplot(all_data,\n",
    "                        vert=True,  # vertical box alignment\n",
    "                        patch_artist=True,  # fill with color\n",
    "                        labels=labels,\n",
    "                        widths = 0.5,\n",
    "                        positions = [1,4,7,10],\n",
    "                        showfliers=False, ### ignore outliners\n",
    "                        )  # will be used to label x-ticks\n",
    "    bplot2 =ax1.boxplot(data_t2,\n",
    "                        notch=False,  # notch shape\n",
    "                        vert=True,  # vertical box alignment\n",
    "                        patch_artist=True,  # fill with color\n",
    "                        widths = 0.5,\n",
    "                        labels=labels2,\n",
    "                        positions = [2,5,8,11],\n",
    "                        showfliers=False, ### ignore outliners\n",
    "                        )  # will be used to label x-ticks\n",
    "    ax1.set_title(t,fontsize=size_title)\n",
    "\n",
    "\n",
    "    colors = [(255/255,228/255,181/255, 1), (77/255, 175/255, 75/255, 1), (55/255, 126/255, 184/255, 1),(152/255, 78/255, 163/255, 1)]\n",
    "   \n",
    "    for patch, color in zip(bplot1['boxes'], colors):\n",
    "        # change outline color\n",
    "        patch.set(color='w', linewidth=1)\n",
    "        # change fill color\n",
    "        patch.set(facecolor =color)\n",
    "\n",
    "    colors2 = [(255/255,228/255,181/255, 0.7), (77/255, 175/255, 75/255, 0.5), (55/255, 126/255, 184/255, 0.5),(152/255, 78/255, 163/255, 0.5)]\n",
    "\n",
    "    for patch, color in zip(bplot2['boxes'], colors2):\n",
    "        # change outline color\n",
    "        patch.set(color='w', linewidth=1)\n",
    "        # change fill color\n",
    "        patch.set(facecolor =color)\n",
    "        # change hatch\n",
    "        patch.set(hatch = '/')\n",
    "\n",
    "    ### custome legend\n",
    "    trial_1 = mpatches.Patch(color=(153/255, 153/255, 153/255, 1), label='First Trial')\n",
    "    trial_2 = mpatches.Patch(facecolor =(153/255, 153/255, 153/255, 0.5), label='Second Trial',hatch = '/',edgecolor='w',)\n",
    "    ax1.legend(handles=[trial_1,trial_2], handlelength=ll, handleheight=lh,loc='upper right')\n",
    "    # plt.legend(handles=[trial_1,trial_2],)\n",
    "\n",
    "\n",
    "\n",
    "    # adding horizontal grid lines\n",
    "    ax1.yaxis.grid(True)\n",
    "    ax1.set_ylim([ymin,ymax])\n",
    "    ax1.set_xlabel(\"Conditions\",fontsize=size_ax)\n",
    "    ax1.set_ylabel(yt,fontsize=size_ax)\n",
    "    # ax1.set_xticks(np.arange(4))\n",
    "    ax1.set_xticklabels([\"Control\",\"Haptic\",\"Automatic\",\"Reverse\",\" \",\" \",\" \",\" \"],\n",
    "    ha ='left',\n",
    "    fontsize=size_group\n",
    "    )\n",
    "\n",
    "    ## plot significant level\n",
    "    if(s1):\n",
    "        x1 =1.5\n",
    "        x2 = 4.5\n",
    "        y, h, col = c.max() + seg*1, s_tx_h, 'k'\n",
    "        plt.plot([x1,  x2], [y,  y], lw=1, c=col)\n",
    "        plt.text((x1+x2)*.5, y+h, s1, ha='center', va='bottom', color=col)\n",
    "\n",
    "    if(s2):\n",
    "        x1 =1.5\n",
    "        x2 = 7.5\n",
    "        y, h, col = c.max() + seg*2, s_tx_h, 'k'\n",
    "        plt.plot([x1,  x2], [y,  y], lw=1, c=col)\n",
    "        plt.text((x1+x2)*.5, y+h, s2, ha='center', va='bottom', color=col)\n",
    "    if(s3):\n",
    "        x1 =1.5\n",
    "        x2 = 10.5\n",
    "        y, h, col = c.max() + seg*3, s_tx_h, 'k'\n",
    "        plt.plot([x1,  x2], [y,  y], lw=1, c=col)\n",
    "        plt.text((x1+x2)*.5, y+h,s3, ha='center', va='bottom', color=col)\n",
    "\n",
    "    if(s4):\n",
    "        x1 =4.5\n",
    "        x2 = 7.5\n",
    "        y, h, col = a.max() + seg*1,s_tx_h, 'k'\n",
    "        plt.plot([x1,  x2], [y,  y], lw=1, c=col)\n",
    "        plt.text((x1+x2)*.5, y+h, s4, ha='center', va='bottom', color=col)\n",
    "\n",
    "    if(s5):\n",
    "        x1 =4.5\n",
    "        x2 = 10.5\n",
    "        y, h, col = k.max() + seg*0.5, s_tx_h, 'k'\n",
    "        plt.plot([x1,  x2], [y,  y], lw=1, c=col)\n",
    "        plt.text((x1+x2)*.5, y+h, s5, ha='center', va='bottom', color=col)\n",
    "    if(s6):\n",
    "        x1 =7.5\n",
    "        x2 = 10.5\n",
    "        y, h, col = k.max() + seg*2, s_tx_h, 'k'\n",
    "        plt.plot([x1,  x2], [y,  y], lw=1, c=col)\n",
    "        plt.text((x1+x2)*.5, y+h,s6, ha='center', va='bottom', color=col)\n",
    "\n",
    "    plt.show()"
   ]
  },
  {
   "cell_type": "code",
   "execution_count": 10,
   "metadata": {},
   "outputs": [
    {
     "data": {
      "image/png": "[encoded data removed]",
      "text/plain": [
       "<Figure size 432x576 with 1 Axes>"
      ]
     },
     "metadata": {
      "needs_background": "light"
     },
     "output_type": "display_data"
    }
   ],
   "source": [
    "FourGroupBoxPlot(s_c1,s_h1,s_a1,s_v1,s_c2,s_h2,s_a2,s_v2,\n",
    "t = 'NASA TLX Workload',\n",
    "yt =\"Scale\",\n",
    "figsize=(6,8),\n",
    "ymax =70,ymin=0,\n",
    "s1 ='***', # c-h\n",
    "s2= '***', # c-a\n",
    "s3=False,    # c-k \n",
    "s4 ='**', # h-a\n",
    "s5= '***', # h-k\n",
    "s6='***', # a-k\n",
    "ll=3,\n",
    "s_tx_h=0.01\n",
    ")"
   ]
  },
  {
   "cell_type": "code",
   "execution_count": 11,
   "metadata": {},
   "outputs": [],
   "source": [
    "def CovertdftoTTest(df_zig,df_zig2,condition):\n",
    "    df_tt = pd.DataFrame(columns=['Condition', 'Subject','Score'])\n",
    "    # print(df_zig['NASA'])\n",
    "    df_tt['Score'] = df_zig['NASA'].values +df_zig2['NASA'].values\n",
    "    df_tt['Subject'] = df_zig.Subject.values\n",
    "    df_tt['Condition'] = condition\n",
    "    return df_tt\n"
   ]
  },
  {
   "cell_type": "code",
   "execution_count": 12,
   "metadata": {},
   "outputs": [
    {
     "name": "stdout",
     "output_type": "stream",
     "text": [
      "<bound method NDFrame.tail of     Condition  Subject  Score\n",
      "0     Control        1     72\n",
      "1     Control        2     74\n",
      "2     Control        3     91\n",
      "3     Control        4     59\n",
      "4     Control        5     80\n",
      "..        ...      ...    ...\n",
      "127  Keyboard       29     44\n",
      "128  Keyboard       30     46\n",
      "129  Keyboard       31     72\n",
      "130  Keyboard       32     92\n",
      "131  Keyboard       33     95\n",
      "\n",
      "[132 rows x 3 columns]>\n"
     ]
    }
   ],
   "source": [
    "# df_a2.reset_index()\n",
    "# print(df_c2.NASA)\n",
    "# print(df_a2.Subject)\n",
    "df_ttc = CovertdftoTTest(df_c1,df_c2,'Control')\n",
    "df_tth = CovertdftoTTest(df_h1,df_h2,'Haptic')\n",
    "df_tta = CovertdftoTTest(df_a1,df_a2,'Automatic')\n",
    "df_ttk = CovertdftoTTest(df_v1,df_v2,'Keyboard')\n",
    "\n",
    "\n",
    "df_tt_all = pd.DataFrame()\n",
    "\n",
    "df_tt_all =df_tt_all.append([df_ttc,df_tth,df_tta,df_ttk], ignore_index=True)\n",
    "\n",
    "# df_tt_all.Score = df_tt_all.Score.apply(pd.to_numeric)\n",
    "print(df_tt_all.tail)\n"
   ]
  },
  {
   "cell_type": "code",
   "execution_count": 12,
   "metadata": {},
   "outputs": [
    {
     "data": {
      "text/html": [
       "<div>\n",
       "<style scoped>\n",
       "    .dataframe tbody tr th:only-of-type {\n",
       "        vertical-align: middle;\n",
       "    }\n",
       "\n",
       "    .dataframe tbody tr th {\n",
       "        vertical-align: top;\n",
       "    }\n",
       "\n",
       "    .dataframe thead th {\n",
       "        text-align: right;\n",
       "    }\n",
       "</style>\n",
       "<table border=\"1\" class=\"dataframe\">\n",
       "  <thead>\n",
       "    <tr style=\"text-align: right;\">\n",
       "      <th></th>\n",
       "      <th>Contrast</th>\n",
       "      <th>A</th>\n",
       "      <th>B</th>\n",
       "      <th>Paired</th>\n",
       "      <th>Parametric</th>\n",
       "      <th>W-val</th>\n",
       "      <th>alternative</th>\n",
       "      <th>p-unc</th>\n",
       "      <th>hedges</th>\n",
       "    </tr>\n",
       "  </thead>\n",
       "  <tbody>\n",
       "    <tr>\n",
       "      <th>0</th>\n",
       "      <td>Condition</td>\n",
       "      <td>Automatic</td>\n",
       "      <td>Control</td>\n",
       "      <td>True</td>\n",
       "      <td>False</td>\n",
       "      <td>0.0</td>\n",
       "      <td>two-sided</td>\n",
       "      <td>0.000</td>\n",
       "      <td>-1.428</td>\n",
       "    </tr>\n",
       "    <tr>\n",
       "      <th>1</th>\n",
       "      <td>Condition</td>\n",
       "      <td>Automatic</td>\n",
       "      <td>Haptic</td>\n",
       "      <td>True</td>\n",
       "      <td>False</td>\n",
       "      <td>98.0</td>\n",
       "      <td>two-sided</td>\n",
       "      <td>0.001</td>\n",
       "      <td>0.573</td>\n",
       "    </tr>\n",
       "    <tr>\n",
       "      <th>2</th>\n",
       "      <td>Condition</td>\n",
       "      <td>Automatic</td>\n",
       "      <td>Keyboard</td>\n",
       "      <td>True</td>\n",
       "      <td>False</td>\n",
       "      <td>21.5</td>\n",
       "      <td>two-sided</td>\n",
       "      <td>0.000</td>\n",
       "      <td>-1.121</td>\n",
       "    </tr>\n",
       "    <tr>\n",
       "      <th>3</th>\n",
       "      <td>Condition</td>\n",
       "      <td>Control</td>\n",
       "      <td>Haptic</td>\n",
       "      <td>True</td>\n",
       "      <td>False</td>\n",
       "      <td>6.0</td>\n",
       "      <td>two-sided</td>\n",
       "      <td>0.000</td>\n",
       "      <td>2.029</td>\n",
       "    </tr>\n",
       "    <tr>\n",
       "      <th>4</th>\n",
       "      <td>Condition</td>\n",
       "      <td>Control</td>\n",
       "      <td>Keyboard</td>\n",
       "      <td>True</td>\n",
       "      <td>False</td>\n",
       "      <td>187.0</td>\n",
       "      <td>two-sided</td>\n",
       "      <td>0.152</td>\n",
       "      <td>0.252</td>\n",
       "    </tr>\n",
       "    <tr>\n",
       "      <th>5</th>\n",
       "      <td>Condition</td>\n",
       "      <td>Haptic</td>\n",
       "      <td>Keyboard</td>\n",
       "      <td>True</td>\n",
       "      <td>False</td>\n",
       "      <td>5.5</td>\n",
       "      <td>two-sided</td>\n",
       "      <td>0.000</td>\n",
       "      <td>-1.690</td>\n",
       "    </tr>\n",
       "  </tbody>\n",
       "</table>\n",
       "</div>"
      ],
      "text/plain": [
       "    Contrast          A         B  Paired  Parametric  W-val alternative  \\\n",
       "0  Condition  Automatic   Control    True       False    0.0   two-sided   \n",
       "1  Condition  Automatic    Haptic    True       False   98.0   two-sided   \n",
       "2  Condition  Automatic  Keyboard    True       False   21.5   two-sided   \n",
       "3  Condition    Control    Haptic    True       False    6.0   two-sided   \n",
       "4  Condition    Control  Keyboard    True       False  187.0   two-sided   \n",
       "5  Condition     Haptic  Keyboard    True       False    5.5   two-sided   \n",
       "\n",
       "   p-unc  hedges  \n",
       "0  0.000  -1.428  \n",
       "1  0.001   0.573  \n",
       "2  0.000  -1.121  \n",
       "3  0.000   2.029  \n",
       "4  0.152   0.252  \n",
       "5  0.000  -1.690  "
      ]
     },
     "execution_count": 12,
     "metadata": {},
     "output_type": "execute_result"
    }
   ],
   "source": [
    "pg.pairwise_ttests(dv='Score', within='Condition', subject='Subject',\n",
    "                   data=df_tt_all, parametric=False).round(3)"
   ]
  },
  {
   "cell_type": "code",
   "execution_count": 13,
   "metadata": {},
   "outputs": [
    {
     "data": {
      "text/html": [
       "<div>\n",
       "<style scoped>\n",
       "    .dataframe tbody tr th:only-of-type {\n",
       "        vertical-align: middle;\n",
       "    }\n",
       "\n",
       "    .dataframe tbody tr th {\n",
       "        vertical-align: top;\n",
       "    }\n",
       "\n",
       "    .dataframe thead th {\n",
       "        text-align: right;\n",
       "    }\n",
       "</style>\n",
       "<table border=\"1\" class=\"dataframe\">\n",
       "  <thead>\n",
       "    <tr style=\"text-align: right;\">\n",
       "      <th></th>\n",
       "      <th>Source</th>\n",
       "      <th>SS</th>\n",
       "      <th>DF</th>\n",
       "      <th>MS</th>\n",
       "      <th>F</th>\n",
       "      <th>p-unc</th>\n",
       "      <th>ng2</th>\n",
       "      <th>eps</th>\n",
       "    </tr>\n",
       "  </thead>\n",
       "  <tbody>\n",
       "    <tr>\n",
       "      <th>0</th>\n",
       "      <td>Condition</td>\n",
       "      <td>21112.6288</td>\n",
       "      <td>3</td>\n",
       "      <td>7037.5429</td>\n",
       "      <td>68.7874</td>\n",
       "      <td>0.0</td>\n",
       "      <td>0.4081</td>\n",
       "      <td>0.9531</td>\n",
       "    </tr>\n",
       "    <tr>\n",
       "      <th>1</th>\n",
       "      <td>Error</td>\n",
       "      <td>9821.6212</td>\n",
       "      <td>96</td>\n",
       "      <td>102.3086</td>\n",
       "      <td>NaN</td>\n",
       "      <td>NaN</td>\n",
       "      <td>NaN</td>\n",
       "      <td>NaN</td>\n",
       "    </tr>\n",
       "  </tbody>\n",
       "</table>\n",
       "</div>"
      ],
      "text/plain": [
       "      Source          SS  DF         MS        F  p-unc     ng2     eps\n",
       "0  Condition  21112.6288   3  7037.5429  68.7874    0.0  0.4081  0.9531\n",
       "1      Error   9821.6212  96   102.3086      NaN    NaN     NaN     NaN"
      ]
     },
     "execution_count": 13,
     "metadata": {},
     "output_type": "execute_result"
    }
   ],
   "source": [
    "pg.rm_anova(dv='Score', within='Condition',\n",
    "                  subject='Subject', data=df_tt_all, detailed=True,\n",
    "                  effsize=\"ng2\").round(4)"
   ]
  },
  {
   "cell_type": "code",
   "execution_count": 14,
   "metadata": {},
   "outputs": [
    {
     "name": "stdout",
     "output_type": "stream",
     "text": [
      "['Automatic', 'Haptic', 'Visual (Keyboard)']\n"
     ]
    }
   ],
   "source": [
    "### Trust Analysis ###\n",
    "trust = './Data/Survey/Trust.csv'\n",
    "df_trust_all = pd.read_csv(trust)\n",
    "# print(df_trust_all)\n",
    "df_trust_g_condition = df_trust_all.groupby('Conditions')\n",
    "keys = df_trust_g_condition.groups.keys()\n",
    "keys_trust_list = list(keys) # 0 automatic 2 control 4 haptic 6 visual \n",
    "print(keys_trust_list)"
   ]
  },
  {
   "cell_type": "code",
   "execution_count": 17,
   "metadata": {},
   "outputs": [],
   "source": [
    "def GetTrustSum(index,df_g,keys_list):\n",
    "    df = df_g.get_group(keys_list[index])\n",
    "    df['Trust']= df.iloc[:,4]+df.iloc[:,5]+df.iloc[:,6]+df.iloc[:,7]+df.iloc[:,8]+df.iloc[:,9]\n",
    "    return df"
   ]
  },
  {
   "cell_type": "code",
   "execution_count": 18,
   "metadata": {},
   "outputs": [
    {
     "name": "stderr",
     "output_type": "stream",
     "text": [
      "<ipython-input-17-5d9aaf03515f>:3: SettingWithCopyWarning: \n",
      "A value is trying to be set on a copy of a slice from a DataFrame.\n",
      "Try using .loc[row_indexer,col_indexer] = value instead\n",
      "\n",
      "See the caveats in the documentation: https://pandas.pydata.org/pandas-docs/stable/user_guide/indexing.html#returning-a-view-versus-a-copy\n",
      "  df['Trust']= df.iloc[:,4]+df.iloc[:,5]+df.iloc[:,6]+df.iloc[:,7]+df.iloc[:,8]+df.iloc[:,9]\n",
      "<ipython-input-17-5d9aaf03515f>:3: SettingWithCopyWarning: \n",
      "A value is trying to be set on a copy of a slice from a DataFrame.\n",
      "Try using .loc[row_indexer,col_indexer] = value instead\n",
      "\n",
      "See the caveats in the documentation: https://pandas.pydata.org/pandas-docs/stable/user_guide/indexing.html#returning-a-view-versus-a-copy\n",
      "  df['Trust']= df.iloc[:,4]+df.iloc[:,5]+df.iloc[:,6]+df.iloc[:,7]+df.iloc[:,8]+df.iloc[:,9]\n",
      "<ipython-input-17-5d9aaf03515f>:3: SettingWithCopyWarning: \n",
      "A value is trying to be set on a copy of a slice from a DataFrame.\n",
      "Try using .loc[row_indexer,col_indexer] = value instead\n",
      "\n",
      "See the caveats in the documentation: https://pandas.pydata.org/pandas-docs/stable/user_guide/indexing.html#returning-a-view-versus-a-copy\n",
      "  df['Trust']= df.iloc[:,4]+df.iloc[:,5]+df.iloc[:,6]+df.iloc[:,7]+df.iloc[:,8]+df.iloc[:,9]\n"
     ]
    }
   ],
   "source": [
    "df_t_a1= GetTrustSum(0,df_trust_g_condition,keys_trust_list)\n",
    "s_t_a1 = df_t_a1['Trust']\n",
    "\n",
    "df_t_h1= GetTrustSum(1,df_trust_g_condition,keys_trust_list)\n",
    "s_t_h1 = df_t_h1['Trust']\n",
    "\n",
    "df_t_k1= GetTrustSum(2,df_trust_g_condition,keys_trust_list)\n",
    "s_t_k1 = df_t_k1['Trust']\n",
    "\n",
    "\n",
    "\n",
    "\n"
   ]
  },
  {
   "cell_type": "code",
   "execution_count": 23,
   "metadata": {},
   "outputs": [],
   "source": [
    "def CovertdftoTTest_Trust(df_zig,condition):\n",
    "    df_tt = pd.DataFrame(columns=['Condition', 'Subject','Score'])\n",
    "    # print(df_zig['NASA'])\n",
    "    df_tt['Score'] = df_zig['Trust'].values\n",
    "    df_tt['Subject'] = df_zig.Subject.values\n",
    "    df_tt['Condition'] = condition\n",
    "    return df_tt"
   ]
  },
  {
   "cell_type": "code",
   "execution_count": 25,
   "metadata": {},
   "outputs": [
    {
     "name": "stdout",
     "output_type": "stream",
     "text": [
      "<bound method NDFrame.tail of    Condition  Subject  Score\n",
      "0     Haptic        5     54\n",
      "1     Haptic        1     60\n",
      "2     Haptic        6     48\n",
      "3     Haptic        7     56\n",
      "4     Haptic        8     60\n",
      "..       ...      ...    ...\n",
      "85  Keyboard       29     44\n",
      "86  Keyboard       30     47\n",
      "87  Keyboard       31     22\n",
      "88  Keyboard       32     35\n",
      "89  Keyboard       33     14\n",
      "\n",
      "[90 rows x 3 columns]>\n"
     ]
    },
    {
     "name": "stderr",
     "output_type": "stream",
     "text": [
      "<ipython-input-25-7c3e3873f8e0>:9: FutureWarning: The frame.append method is deprecated and will be removed from pandas in a future version. Use pandas.concat instead.\n",
      "  df_tt_all =df_tt_all.append([df_tth,df_tta,df_ttk], ignore_index=True)\n"
     ]
    }
   ],
   "source": [
    "\n",
    "df_tth = CovertdftoTTest_Trust(df_t_h1,'Haptic')\n",
    "df_tta = CovertdftoTTest_Trust(df_t_a1,'Automatic')\n",
    "df_ttk = CovertdftoTTest_Trust(df_t_k1,'Keyboard')\n",
    "\n",
    "\n",
    "df_tt_all = pd.DataFrame()\n",
    "\n",
    "# df_tt_all =df_tt_all.append([df_ttc,df_tth,df_tta,df_ttk], ignore_index=True)\n",
    "df_tt_all =df_tt_all.append([df_tth,df_tta,df_ttk], ignore_index=True)\n",
    "\n",
    "# df_tt_all.Score = df_tt_all.Score.apply(pd.to_numeric)\n",
    "print(df_tt_all.tail)\n"
   ]
  },
  {
   "cell_type": "code",
   "execution_count": null,
   "metadata": {},
   "outputs": [],
   "source": []
  },
  {
   "cell_type": "code",
   "execution_count": 26,
   "metadata": {},
   "outputs": [
    {
     "data": {
      "text/html": [
       "<div>\n",
       "<style scoped>\n",
       "    .dataframe tbody tr th:only-of-type {\n",
       "        vertical-align: middle;\n",
       "    }\n",
       "\n",
       "    .dataframe tbody tr th {\n",
       "        vertical-align: top;\n",
       "    }\n",
       "\n",
       "    .dataframe thead th {\n",
       "        text-align: right;\n",
       "    }\n",
       "</style>\n",
       "<table border=\"1\" class=\"dataframe\">\n",
       "  <thead>\n",
       "    <tr style=\"text-align: right;\">\n",
       "      <th></th>\n",
       "      <th>Contrast</th>\n",
       "      <th>A</th>\n",
       "      <th>B</th>\n",
       "      <th>Paired</th>\n",
       "      <th>Parametric</th>\n",
       "      <th>W-val</th>\n",
       "      <th>alternative</th>\n",
       "      <th>p-unc</th>\n",
       "      <th>hedges</th>\n",
       "    </tr>\n",
       "  </thead>\n",
       "  <tbody>\n",
       "    <tr>\n",
       "      <th>0</th>\n",
       "      <td>Condition</td>\n",
       "      <td>Automatic</td>\n",
       "      <td>Haptic</td>\n",
       "      <td>True</td>\n",
       "      <td>False</td>\n",
       "      <td>81.5</td>\n",
       "      <td>two-sided</td>\n",
       "      <td>0.002</td>\n",
       "      <td>-0.587</td>\n",
       "    </tr>\n",
       "    <tr>\n",
       "      <th>1</th>\n",
       "      <td>Condition</td>\n",
       "      <td>Automatic</td>\n",
       "      <td>Keyboard</td>\n",
       "      <td>True</td>\n",
       "      <td>False</td>\n",
       "      <td>23.5</td>\n",
       "      <td>two-sided</td>\n",
       "      <td>0.000</td>\n",
       "      <td>1.525</td>\n",
       "    </tr>\n",
       "    <tr>\n",
       "      <th>2</th>\n",
       "      <td>Condition</td>\n",
       "      <td>Haptic</td>\n",
       "      <td>Keyboard</td>\n",
       "      <td>True</td>\n",
       "      <td>False</td>\n",
       "      <td>14.0</td>\n",
       "      <td>two-sided</td>\n",
       "      <td>0.000</td>\n",
       "      <td>1.940</td>\n",
       "    </tr>\n",
       "  </tbody>\n",
       "</table>\n",
       "</div>"
      ],
      "text/plain": [
       "    Contrast          A         B  Paired  Parametric  W-val alternative  \\\n",
       "0  Condition  Automatic    Haptic    True       False   81.5   two-sided   \n",
       "1  Condition  Automatic  Keyboard    True       False   23.5   two-sided   \n",
       "2  Condition     Haptic  Keyboard    True       False   14.0   two-sided   \n",
       "\n",
       "   p-unc  hedges  \n",
       "0  0.002  -0.587  \n",
       "1  0.000   1.525  \n",
       "2  0.000   1.940  "
      ]
     },
     "execution_count": 26,
     "metadata": {},
     "output_type": "execute_result"
    }
   ],
   "source": [
    "pg.pairwise_ttests(dv='Score', within='Condition', subject='Subject',\n",
    "                   data=df_tt_all, parametric=False).round(3)"
   ]
  },
  {
   "cell_type": "code",
   "execution_count": 27,
   "metadata": {},
   "outputs": [
    {
     "data": {
      "text/html": [
       "<div>\n",
       "<style scoped>\n",
       "    .dataframe tbody tr th:only-of-type {\n",
       "        vertical-align: middle;\n",
       "    }\n",
       "\n",
       "    .dataframe tbody tr th {\n",
       "        vertical-align: top;\n",
       "    }\n",
       "\n",
       "    .dataframe thead th {\n",
       "        text-align: right;\n",
       "    }\n",
       "</style>\n",
       "<table border=\"1\" class=\"dataframe\">\n",
       "  <thead>\n",
       "    <tr style=\"text-align: right;\">\n",
       "      <th></th>\n",
       "      <th>Source</th>\n",
       "      <th>SS</th>\n",
       "      <th>DF</th>\n",
       "      <th>MS</th>\n",
       "      <th>F</th>\n",
       "      <th>p-unc</th>\n",
       "      <th>p-GG-corr</th>\n",
       "      <th>ng2</th>\n",
       "      <th>eps</th>\n",
       "      <th>sphericity</th>\n",
       "      <th>W-spher</th>\n",
       "      <th>p-spher</th>\n",
       "    </tr>\n",
       "  </thead>\n",
       "  <tbody>\n",
       "    <tr>\n",
       "      <th>0</th>\n",
       "      <td>Condition</td>\n",
       "      <td>7181.4889</td>\n",
       "      <td>2</td>\n",
       "      <td>3590.7444</td>\n",
       "      <td>40.2272</td>\n",
       "      <td>0.0</td>\n",
       "      <td>0.0</td>\n",
       "      <td>0.4496</td>\n",
       "      <td>0.8095</td>\n",
       "      <td>False</td>\n",
       "      <td>0.7647</td>\n",
       "      <td>0.0234</td>\n",
       "    </tr>\n",
       "    <tr>\n",
       "      <th>1</th>\n",
       "      <td>Error</td>\n",
       "      <td>5177.1778</td>\n",
       "      <td>58</td>\n",
       "      <td>89.2617</td>\n",
       "      <td>NaN</td>\n",
       "      <td>NaN</td>\n",
       "      <td>NaN</td>\n",
       "      <td>NaN</td>\n",
       "      <td>NaN</td>\n",
       "      <td>NaN</td>\n",
       "      <td>NaN</td>\n",
       "      <td>NaN</td>\n",
       "    </tr>\n",
       "  </tbody>\n",
       "</table>\n",
       "</div>"
      ],
      "text/plain": [
       "      Source         SS  DF         MS        F  p-unc  p-GG-corr     ng2  \\\n",
       "0  Condition  7181.4889   2  3590.7444  40.2272    0.0        0.0  0.4496   \n",
       "1      Error  5177.1778  58    89.2617      NaN    NaN        NaN     NaN   \n",
       "\n",
       "      eps sphericity  W-spher  p-spher  \n",
       "0  0.8095      False   0.7647   0.0234  \n",
       "1     NaN        NaN      NaN      NaN  "
      ]
     },
     "execution_count": 27,
     "metadata": {},
     "output_type": "execute_result"
    }
   ],
   "source": [
    "pg.rm_anova(dv='Score', within='Condition',\n",
    "                  subject='Subject', data=df_tt_all, detailed=True,\n",
    "                  effsize=\"ng2\").round(4)"
   ]
  },
  {
   "cell_type": "code",
   "execution_count": 62,
   "metadata": {},
   "outputs": [
    {
     "data": {
      "image/png": "[encoded data removed]",
      "text/plain": [
       "<Figure size 432x576 with 1 Axes>"
      ]
     },
     "metadata": {
      "needs_background": "light"
     },
     "output_type": "display_data"
    }
   ],
   "source": [
    "ThreeGroupBoxPlot(s_t_h1,s_t_a1,s_t_k1,\n",
    "t = 'Trust Level',\n",
    "yt =\"Scale\",\n",
    "figsize=(6,8),\n",
    "ymax =70,ymin=10,\n",
    "s4 ='**', # h-a\n",
    "s5= '***', # h-k\n",
    "s6='***', # a-k\n",
    "ll=3,\n",
    "s_tx_h=0.1,\n",
    "seg =2,\n",
    ")"
   ]
  },
  {
   "cell_type": "code",
   "execution_count": 61,
   "metadata": {},
   "outputs": [],
   "source": [
    "def ThreeGroupBoxPlot(h,a,k,t,yt,ymax,ymin,s4,s5,s6,seg=3,s_tx_h=0.5,lh=1,ll=2.5,figsize=(8,8)):   \n",
    "    all_data = [h,a,k]\n",
    "    labels = ['Haptic', 'Automatic','Reverse']\n",
    "    labels2 = ['', '','']\n",
    "\n",
    "    fig, (ax1)= plt.subplots(nrows=1, ncols=1, figsize=figsize)\n",
    "    size_ax = 16\n",
    "    size_title = 20\n",
    "    size_group = 14\n",
    "\n",
    "    # rectangular box plot\n",
    "    bplot1 = ax1.boxplot(all_data,\n",
    "                        vert=True,  # vertical box alignment\n",
    "                        patch_artist=True,  # fill with color\n",
    "                        labels=labels,\n",
    "                        widths = 0.2,\n",
    "                        # positions = [1,4,7,10],\n",
    "                        showfliers=False, ### ignore outliners\n",
    "                        )  # will be used to label x-ticks\n",
    "    ax1.set_title(t,fontsize=size_title)\n",
    "\n",
    "\n",
    "    colors = [(255/255,228/255,181/255, 1), (77/255, 175/255, 75/255, 1), (55/255, 126/255, 184/255, 1),(152/255, 78/255, 163/255, 1)]\n",
    "   \n",
    "    for patch, color in zip(bplot1['boxes'], colors):\n",
    "        # change outline color\n",
    "        patch.set(color='w', linewidth=1)\n",
    "        # change fill color\n",
    "        patch.set(facecolor =color)\n",
    "\n",
    "\n",
    "\n",
    "    ### custome legend\n",
    "    trial_1 = mpatches.Patch(color=(153/255, 153/255, 153/255, 1), label='First Trial')\n",
    "    trial_2 = mpatches.Patch(facecolor =(153/255, 153/255, 153/255, 0.5), label='Second Trial',hatch = '/',edgecolor='w',)\n",
    "    # ax1.legend(handles=[trial_1,trial_2], handlelength=ll, handleheight=lh,loc='upper right')\n",
    "    # plt.legend(handles=[trial_1,trial_2],)\n",
    "\n",
    "\n",
    "\n",
    "    # adding horizontal grid lines\n",
    "    ax1.yaxis.grid(True)\n",
    "    ax1.set_ylim([ymin,ymax])\n",
    "    ax1.set_xlabel(\"Conditions\",fontsize=size_ax)\n",
    "    ax1.set_ylabel(yt,fontsize=size_ax)\n",
    "    # ax1.set_xticks(np.arange(4))\n",
    "    ax1.set_xticklabels([\"Haptic\",\"Automatic\",\"Reverse\",],\n",
    "    ha ='center',\n",
    "    fontsize=size_group\n",
    "    )\n",
    "\n",
    "    ## plot significant level\n",
    "\n",
    "\n",
    "    if(s4):\n",
    "        x1 =1\n",
    "        x2 = 2\n",
    "        y, h, col = a.max() + seg*2,s_tx_h, 'k'\n",
    "        plt.plot([x1,  x2], [y,  y], lw=1, c=col)\n",
    "        plt.text((x1+x2)*.5, y+h, s4, ha='center', va='bottom', color=col)\n",
    "\n",
    "    if(s5):\n",
    "        x1 =1\n",
    "        x2 = 3\n",
    "        y, h, col = k.max() + seg*6, s_tx_h, 'k'\n",
    "        plt.plot([x1,  x2], [y,  y], lw=1, c=col)\n",
    "        plt.text((x1+x2)*.5, y+h, s5, ha='center', va='bottom', color=col)\n",
    "    if(s6):\n",
    "        x1 =2\n",
    "        x2 = 3\n",
    "        y, h, col = k.max() + seg*4, s_tx_h, 'k'\n",
    "        plt.plot([x1,  x2], [y,  y], lw=1, c=col)\n",
    "        plt.text((x1+x2)*.5, y+h,s6, ha='center', va='bottom', color=col)\n",
    "\n",
    "    plt.show()"
   ]
  },
  {
   "cell_type": "code",
   "execution_count": 178,
   "metadata": {},
   "outputs": [],
   "source": [
    "# Random test data\n",
    "\n",
    "def BoxplotTrustInOne(h,a,k):\n",
    "\n",
    "    all_data = [h,a,k]\n",
    "    labels = ['Haptic', 'Automatic','Reverse']\n",
    "    labels2 = ['', '','']\n",
    "\n",
    "    fig, (ax1) = plt.subplots(nrows=1, ncols=1, figsize=(4, 8))\n",
    "    size_ax = 16\n",
    "    size_title = 20\n",
    "    size_group = 14\n",
    "\n",
    "    # rectangular box plot\n",
    "    bplot1 = ax1.boxplot(all_data,\n",
    "                        vert=True,  # vertical box alignment\n",
    "                        patch_artist=True,  # fill with color\n",
    "                        labels=labels,\n",
    "                        widths = 0.3,\n",
    "                        )  # will be used to label x-ticks\n",
    "   \n",
    "    ax1.set_title('Trust Level',fontsize=size_title)\n",
    "\n",
    "\n",
    "    # fill with colors\n",
    "    # colors = ['pink', 'lightblue', 'lightgreen','lightyellow']\n",
    "    # colors = [(178/255, 24/255, 43/255, 1), (252/255, 141/255, 98/255, 1), (102/255, 194/255, 165/255, 1),(141/255, 160/255, 203/255, 1)]\n",
    "    colors = [ (77/255, 175/255, 75/255, 1), (55/255, 126/255, 184/255, 1),(152/255, 78/255, 163/255, 1)]\n",
    "   \n",
    "    for patch, color in zip(bplot1['boxes'], colors):\n",
    "        patch.set_facecolor(color)\n",
    "\n",
    "    colors2 = [ (77/255, 175/255, 75/255, 0.5), (55/255, 126/255, 184/255, 0.5),(152/255, 78/255, 163/255, 0.5)]\n",
    "\n",
    "\n",
    "    # adding horizontal grid lines\n",
    "   \n",
    "    ax1.yaxis.grid(True)\n",
    "    ax1.set_ylim([10, 65])\n",
    "    ax1.set_xlabel('Conditions',fontsize=size_ax)\n",
    "    ax1.set_ylabel('Scale ',fontsize=size_ax)\n",
    "\n",
    "    # ax1.set_xticks(np.arange(4))\n",
    "    ax1.set_xticklabels(labels,\n",
    "    # ha ='left',\n",
    "    fontsize=size_group\n",
    "    )\n",
    "\n",
    "    plt.show()"
   ]
  },
  {
   "cell_type": "code",
   "execution_count": 9,
   "metadata": {},
   "outputs": [
    {
     "name": "stdout",
     "output_type": "stream",
     "text": [
      "----------Control VS Haptic----------\n",
      "          W-val alternative         p-val       RBC      CLES\n",
      "Wilcoxon   27.5   two-sided  5.705656e-12  0.975124  0.920569\n",
      "----------Control VS Reverse----------\n",
      "          W-val alternative     p-val       RBC      CLES\n",
      "Wilcoxon  698.0   two-sided  0.051089  0.285202  0.580693\n",
      "----------Control VS Automatic----------\n",
      "          W-val alternative         p-val       RBC      CLES\n",
      "Wilcoxon   17.5   two-sided  8.075016e-12  0.983173  0.833907\n",
      "----------Haptic VS Reverse----------\n",
      "          W-val alternative         p-val       RBC      CLES\n",
      "Wilcoxon   27.5   two-sided  1.277518e-11 -0.973558  0.129591\n",
      "----------Haptic VS Automatic----------\n",
      "          W-val alternative     p-val       RBC      CLES\n",
      "Wilcoxon  394.5   two-sided  0.000027 -0.608631  0.349518\n",
      "----------Reverse VS Automatic----------\n",
      "          W-val alternative         p-val       RBC      CLES\n",
      "Wilcoxon  130.5   two-sided  1.896567e-09  0.870536  0.773186\n"
     ]
    }
   ],
   "source": [
    "# ### stastic analysis \n",
    "\n",
    "# TB = s_c_all\n",
    "# TH = s_h_all\n",
    "# TV = s_v_all\n",
    "# TM = s_a_all\n",
    "\n",
    "# print('----------Control VS Haptic----------')\n",
    "# print(pg.wilcoxon(TB, TH, alternative='two-sided'))\n",
    "# print('----------Control VS Reverse----------')\n",
    "# print(pg.wilcoxon(TB,TV, alternative='two-sided'))\n",
    "# print('----------Control VS Automatic----------')\n",
    "# print(pg.wilcoxon(TB, TM, alternative='two-sided'))\n",
    "# print('----------Haptic VS Reverse----------')\n",
    "# print(pg.wilcoxon(TH, TV, alternative='two-sided'))\n",
    "# print('----------Haptic VS Automatic----------')\n",
    "# print(pg.wilcoxon(TH, TM, alternative='two-sided'))\n",
    "# print('----------Reverse VS Automatic----------')\n",
    "# print(pg.wilcoxon(TV, TM, alternative='two-sided'))"
   ]
  },
  {
   "cell_type": "code",
   "execution_count": 179,
   "metadata": {},
   "outputs": [
    {
     "data": {
      "image/png": "[encoded data removed]",
      "text/plain": [
       "<Figure size 288x576 with 1 Axes>"
      ]
     },
     "metadata": {
      "needs_background": "light"
     },
     "output_type": "display_data"
    }
   ],
   "source": [
    "BoxplotTrustInOne(s_t_h1,s_t_a1,s_t_k1)"
   ]
  },
  {
   "cell_type": "code",
   "execution_count": 5,
   "metadata": {},
   "outputs": [],
   "source": [
    "# Random test data\n",
    "\n",
    "def BoxplotTrust(h,a,k,h2,a2,k2):\n",
    "\n",
    "    all_data = [h,a,k]\n",
    "    data_t2 = [h2,a2,k2]\n",
    "    labels = ['Haptic', 'Automatic','Revese']\n",
    "\n",
    "    fig, (ax1, ax2) = plt.subplots(nrows=1, ncols=2, figsize=(10, 5))\n",
    "\n",
    "    # rectangular box plot\n",
    "    bplot1 = ax1.boxplot(all_data,\n",
    "                        vert=True,  # vertical box alignment\n",
    "                        patch_artist=True,  # fill with color\n",
    "                        labels=labels)  # will be used to label x-ticks\n",
    "    ax1.set_title('First Trial (1)')\n",
    "\n",
    "    # notch shape box plot\n",
    "    bplot2 = ax2.boxplot(data_t2,\n",
    "                        notch=False,  # notch shape\n",
    "                        vert=True,  # vertical box alignment\n",
    "                        patch_artist=True,  # fill with color\n",
    "                        labels=labels\n",
    "                        )  # will be used to label x-ticks\n",
    "    ax2.set_title('Second Trial (2)')\n",
    "\n",
    "    # fill with colors\n",
    "    colors = ['pink', 'lightblue', 'lightgreen','lightyellow']\n",
    "    for bplot in (bplot1, bplot2):\n",
    "        for patch, color in zip(bplot['boxes'], colors):\n",
    "            patch.set_facecolor(color)\n",
    "\n",
    "    # adding horizontal grid lines\n",
    "    for ax in [ax1, ax2]:\n",
    "        ax.yaxis.grid(True)\n",
    "        ax.set_ylim([0, 65])\n",
    "        ax.set_xlabel('Conditions')\n",
    "        ax.set_ylabel('Trust Levels')\n",
    "\n",
    "    plt.show()"
   ]
  },
  {
   "cell_type": "code",
   "execution_count": 6,
   "metadata": {},
   "outputs": [
    {
     "data": {
      "image/png": "[encoded data removed]",
      "text/plain": [
       "<Figure size 720x360 with 2 Axes>"
      ]
     },
     "metadata": {
      "needs_background": "light"
     },
     "output_type": "display_data"
    }
   ],
   "source": [
    "BoxplotTrust(s_t_h1,s_t_a1,s_t_k1,s_t_h1,s_t_a1,s_t_k1)"
   ]
  },
  {
   "cell_type": "code",
   "execution_count": 196,
   "metadata": {},
   "outputs": [
    {
     "name": "stdout",
     "output_type": "stream",
     "text": [
      "----------Haptic VS Reverse----------\n",
      "          W-val     tail     p-val       RBC      CLES\n",
      "Wilcoxon  290.0  greater  0.000003  0.933333  0.911458\n",
      "----------Haptic VS Automatic----------\n",
      "          W-val     tail     p-val       RBC    CLES\n",
      "Wilcoxon  240.5  greater  0.004357  0.603333  0.6875\n",
      "----------Reverse VS Automatic----------\n",
      "          W-val  tail     p-val       RBC     CLES\n",
      "Wilcoxon   12.5  less  0.000004 -0.916667  0.87066\n"
     ]
    }
   ],
   "source": [
    "### stastic analysis \n",
    "\n",
    "\n",
    "TH = s_t_h1\n",
    "TV = s_t_k1\n",
    "TM = s_t_a1\n",
    "\n",
    "# print('----------Control VS Haptic----------')\n",
    "# print(pg.wilcoxon(TB, TH, alternative='greater'))\n",
    "# print('----------Control VS Keyboad----------')\n",
    "# print(pg.wilcoxon(TB,TV, alternative='greater'))\n",
    "# print('----------Control VS Automatic----------')\n",
    "# print(pg.wilcoxon(TB, TM, alternative='greater'))\n",
    "print('----------Haptic VS Reverse----------')\n",
    "print(pg.wilcoxon(TH, TV, tail='one-sided'))\n",
    "print('----------Haptic VS Automatic----------')\n",
    "print(pg.wilcoxon(TH, TM, tail='one-sided'))\n",
    "print('----------Reverse VS Automatic----------')\n",
    "print(pg.wilcoxon(TV, TM, tail='one-sided'))"
   ]
  },
  {
   "cell_type": "code",
   "execution_count": 195,
   "metadata": {},
   "outputs": [
    {
     "name": "stdout",
     "output_type": "stream",
     "text": [
      "----------Haptic VS Reverse----------\n"
     ]
    },
    {
     "ename": "TypeError",
     "evalue": "wilcoxon() got an unexpected keyword argument 'alternative'",
     "output_type": "error",
     "traceback": [
      "\u001b[1;31m---------------------------------------------------------------------------\u001b[0m",
      "\u001b[1;31mTypeError\u001b[0m                                 Traceback (most recent call last)",
      "\u001b[1;32m<ipython-input-195-c5baec6da87e>\u001b[0m in \u001b[0;36m<module>\u001b[1;34m\u001b[0m\n\u001b[0;32m      1\u001b[0m \u001b[0mprint\u001b[0m\u001b[1;33m(\u001b[0m\u001b[1;34m'----------Haptic VS Reverse----------'\u001b[0m\u001b[1;33m)\u001b[0m\u001b[1;33m\u001b[0m\u001b[1;33m\u001b[0m\u001b[0m\n\u001b[1;32m----> 2\u001b[1;33m \u001b[0mprint\u001b[0m\u001b[1;33m(\u001b[0m\u001b[0mpg\u001b[0m\u001b[1;33m.\u001b[0m\u001b[0mwilcoxon\u001b[0m\u001b[1;33m(\u001b[0m\u001b[0mTH\u001b[0m\u001b[1;33m,\u001b[0m \u001b[0mTV\u001b[0m\u001b[1;33m,\u001b[0m \u001b[0malternative\u001b[0m\u001b[1;33m=\u001b[0m\u001b[1;34m'two-sided'\u001b[0m\u001b[1;33m)\u001b[0m\u001b[1;33m)\u001b[0m\u001b[1;33m\u001b[0m\u001b[1;33m\u001b[0m\u001b[0m\n\u001b[0m\u001b[0;32m      3\u001b[0m \u001b[0mprint\u001b[0m\u001b[1;33m(\u001b[0m\u001b[1;34m'----------Haptic VS Automatic----------'\u001b[0m\u001b[1;33m)\u001b[0m\u001b[1;33m\u001b[0m\u001b[1;33m\u001b[0m\u001b[0m\n\u001b[0;32m      4\u001b[0m \u001b[0mprint\u001b[0m\u001b[1;33m(\u001b[0m\u001b[0mpg\u001b[0m\u001b[1;33m.\u001b[0m\u001b[0mwilcoxon\u001b[0m\u001b[1;33m(\u001b[0m\u001b[0mTH\u001b[0m\u001b[1;33m,\u001b[0m \u001b[0mTM\u001b[0m\u001b[1;33m,\u001b[0m \u001b[0malternative\u001b[0m\u001b[1;33m=\u001b[0m\u001b[1;34m'two-sided'\u001b[0m\u001b[1;33m)\u001b[0m\u001b[1;33m)\u001b[0m\u001b[1;33m\u001b[0m\u001b[1;33m\u001b[0m\u001b[0m\n\u001b[0;32m      5\u001b[0m \u001b[0mprint\u001b[0m\u001b[1;33m(\u001b[0m\u001b[1;34m'----------Reverse VS Automatic----------'\u001b[0m\u001b[1;33m)\u001b[0m\u001b[1;33m\u001b[0m\u001b[1;33m\u001b[0m\u001b[0m\n",
      "\u001b[1;31mTypeError\u001b[0m: wilcoxon() got an unexpected keyword argument 'alternative'"
     ]
    }
   ],
   "source": [
    "print('----------Haptic VS Reverse----------')\n",
    "print(pg.wilcoxon(TH, TV, alternative='two-sided'))\n",
    "print('----------Haptic VS Automatic----------')\n",
    "print(pg.wilcoxon(TH, TM, alternative='two-sided'))\n",
    "print('----------Reverse VS Automatic----------')\n",
    "print(pg.wilcoxon(TV, TM, alternative='two-sided'))"
   ]
  }
 ],
 "metadata": {
  "kernelspec": {
   "display_name": "Python 3.8.8 ('base')",
   "language": "python",
   "name": "python3"
  },
  "language_info": {
   "codemirror_mode": {
    "name": "ipython",
    "version": 3
   },
   "file_extension": ".py",
   "mimetype": "text/x-python",
   "name": "python",
   "nbconvert_exporter": "python",
   "pygments_lexer": "ipython3",
   "version": "3.8.8"
  },
  "orig_nbformat": 4,
  "vscode": {
   "interpreter": {
    "hash": "08b67431c17cfbaf5d75b8f833cc91109bdedee36e8bc657eba4f68a2229c720"
   }
  }
 },
 "nbformat": 4,
 "nbformat_minor": 2
}
